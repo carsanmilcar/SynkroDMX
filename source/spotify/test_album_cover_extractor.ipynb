{
 "cells": [
  {
   "cell_type": "code",
   "execution_count": 14,
   "metadata": {},
   "outputs": [
    {
     "name": "stdout",
     "output_type": "stream",
     "text": [
      "Now Playing: HUMANOID / SHAKE IT UP by Turnstile\n",
      "Album: GLOW ON\n",
      "Progress: 3s / 69s\n"
     ]
    }
   ],
   "source": [
    "from dotenv import load_dotenv\n",
    "import os\n",
    "import spotipy\n",
    "from spotipy.oauth2 import SpotifyOAuth\n",
    "\n",
    "# Load Spotify credentials from .env file\n",
    "load_dotenv()\n",
    "\n",
    "# Access Spotify API keys from environment variables\n",
    "SPOTIFY_CLIENT_ID = os.getenv(\"SPOTIFY_CLIENT_ID\")\n",
    "SPOTIFY_CLIENT_SECRET = os.getenv(\"SPOTIFY_CLIENT_SECRET\")\n",
    "SPOTIFY_REDIRECT_URI = os.getenv(\"SPOTIFY_REDIRECT_URI\")\n",
    "\n",
    "# Set up SpotifyOAuth with required scopes\n",
    "scope = \"user-read-currently-playing user-read-playback-state\"\n",
    "sp = spotipy.Spotify(auth_manager=SpotifyOAuth(\n",
    "    client_id=SPOTIFY_CLIENT_ID,\n",
    "    client_secret=SPOTIFY_CLIENT_SECRET,\n",
    "    redirect_uri=SPOTIFY_REDIRECT_URI,\n",
    "    scope=scope\n",
    "))\n",
    "\n",
    "# Get the currently playing track\n",
    "current_playback = sp.current_playback()\n",
    "\n",
    "# Check if there's a song currently playing\n",
    "if current_playback and current_playback['is_playing']:\n",
    "    track = current_playback['item']\n",
    "    track_name = track['name']\n",
    "    artist_name = track['artists'][0]['name']\n",
    "    album_name = track['album']['name']\n",
    "    progress_ms = current_playback['progress_ms'] // 1000  # Convert ms to seconds\n",
    "    duration_ms = track['duration_ms'] // 1000  # Convert ms to seconds\n",
    "\n",
    "    print(f\"Now Playing: {track_name} by {artist_name}\")\n",
    "    print(f\"Album: {album_name}\")\n",
    "    print(f\"Progress: {progress_ms}s / {duration_ms}s\")\n",
    "else:\n",
    "    print(\"No song is currently playing.\")\n"
   ]
  },
  {
   "cell_type": "code",
   "execution_count": 20,
   "metadata": {},
   "outputs": [
    {
     "name": "stderr",
     "output_type": "stream",
     "text": [
      "HTTP Error for GET to https://api.spotify.com/v1/audio-analysis/4hVbecfxAWbMsb56lxGshM with Params: {} returned 403 due to None\n"
     ]
    },
    {
     "ename": "SpotifyException",
     "evalue": "http status: 403, code: -1 - https://api.spotify.com/v1/audio-analysis/4hVbecfxAWbMsb56lxGshM:\n None, reason: None",
     "output_type": "error",
     "traceback": [
      "\u001b[0;31m---------------------------------------------------------------------------\u001b[0m",
      "\u001b[0;31mHTTPError\u001b[0m                                 Traceback (most recent call last)",
      "File \u001b[0;32m~/Documents/GitHub/SynkroDMX/.venv/lib/python3.10/site-packages/spotipy/client.py:274\u001b[0m, in \u001b[0;36mSpotify._internal_call\u001b[0;34m(self, method, url, payload, params)\u001b[0m\n\u001b[1;32m    269\u001b[0m response \u001b[38;5;241m=\u001b[39m \u001b[38;5;28mself\u001b[39m\u001b[38;5;241m.\u001b[39m_session\u001b[38;5;241m.\u001b[39mrequest(\n\u001b[1;32m    270\u001b[0m     method, url, headers\u001b[38;5;241m=\u001b[39mheaders, proxies\u001b[38;5;241m=\u001b[39m\u001b[38;5;28mself\u001b[39m\u001b[38;5;241m.\u001b[39mproxies,\n\u001b[1;32m    271\u001b[0m     timeout\u001b[38;5;241m=\u001b[39m\u001b[38;5;28mself\u001b[39m\u001b[38;5;241m.\u001b[39mrequests_timeout, \u001b[38;5;241m*\u001b[39m\u001b[38;5;241m*\u001b[39margs\n\u001b[1;32m    272\u001b[0m )\n\u001b[0;32m--> 274\u001b[0m \u001b[43mresponse\u001b[49m\u001b[38;5;241;43m.\u001b[39;49m\u001b[43mraise_for_status\u001b[49m\u001b[43m(\u001b[49m\u001b[43m)\u001b[49m\n\u001b[1;32m    275\u001b[0m results \u001b[38;5;241m=\u001b[39m response\u001b[38;5;241m.\u001b[39mjson()\n",
      "File \u001b[0;32m~/Documents/GitHub/SynkroDMX/.venv/lib/python3.10/site-packages/requests/models.py:1021\u001b[0m, in \u001b[0;36mResponse.raise_for_status\u001b[0;34m(self)\u001b[0m\n\u001b[1;32m   1020\u001b[0m \u001b[38;5;28;01mif\u001b[39;00m http_error_msg:\n\u001b[0;32m-> 1021\u001b[0m     \u001b[38;5;28;01mraise\u001b[39;00m HTTPError(http_error_msg, response\u001b[38;5;241m=\u001b[39m\u001b[38;5;28mself\u001b[39m)\n",
      "\u001b[0;31mHTTPError\u001b[0m: 403 Client Error: Forbidden for url: https://api.spotify.com/v1/audio-analysis/4hVbecfxAWbMsb56lxGshM",
      "\nDuring handling of the above exception, another exception occurred:\n",
      "\u001b[0;31mSpotifyException\u001b[0m                          Traceback (most recent call last)",
      "Cell \u001b[0;32mIn[20], line 1\u001b[0m\n\u001b[0;32m----> 1\u001b[0m \u001b[43msp\u001b[49m\u001b[38;5;241;43m.\u001b[39;49m\u001b[43maudio_analysis\u001b[49m\u001b[43m(\u001b[49m\u001b[43mtrack_id\u001b[49m\u001b[38;5;241;43m=\u001b[39;49m\u001b[38;5;124;43m'\u001b[39;49m\u001b[38;5;124;43mspotify:track:4hVbecfxAWbMsb56lxGshM\u001b[39;49m\u001b[38;5;124;43m'\u001b[39;49m\u001b[43m)\u001b[49m\n",
      "File \u001b[0;32m~/Documents/GitHub/SynkroDMX/.venv/lib/python3.10/site-packages/spotipy/client.py:1784\u001b[0m, in \u001b[0;36mSpotify.audio_analysis\u001b[0;34m(self, track_id)\u001b[0m\n\u001b[1;32m   1778\u001b[0m warnings\u001b[38;5;241m.\u001b[39mwarn(\n\u001b[1;32m   1779\u001b[0m     \u001b[38;5;124m\"\u001b[39m\u001b[38;5;124mYou\u001b[39m\u001b[38;5;124m'\u001b[39m\u001b[38;5;124mre using `audio_analysis(...)`, \u001b[39m\u001b[38;5;124m\"\u001b[39m\n\u001b[1;32m   1780\u001b[0m     \u001b[38;5;124m\"\u001b[39m\u001b[38;5;124mwhich is marked as deprecated by Spotify.\u001b[39m\u001b[38;5;124m\"\u001b[39m,\n\u001b[1;32m   1781\u001b[0m     \u001b[38;5;167;01mDeprecationWarning\u001b[39;00m,\n\u001b[1;32m   1782\u001b[0m )\n\u001b[1;32m   1783\u001b[0m trid \u001b[38;5;241m=\u001b[39m \u001b[38;5;28mself\u001b[39m\u001b[38;5;241m.\u001b[39m_get_id(\u001b[38;5;124m\"\u001b[39m\u001b[38;5;124mtrack\u001b[39m\u001b[38;5;124m\"\u001b[39m, track_id)\n\u001b[0;32m-> 1784\u001b[0m \u001b[38;5;28;01mreturn\u001b[39;00m \u001b[38;5;28;43mself\u001b[39;49m\u001b[38;5;241;43m.\u001b[39;49m\u001b[43m_get\u001b[49m\u001b[43m(\u001b[49m\u001b[38;5;124;43m\"\u001b[39;49m\u001b[38;5;124;43maudio-analysis/\u001b[39;49m\u001b[38;5;124;43m\"\u001b[39;49m\u001b[43m \u001b[49m\u001b[38;5;241;43m+\u001b[39;49m\u001b[43m \u001b[49m\u001b[43mtrid\u001b[49m\u001b[43m)\u001b[49m\n",
      "File \u001b[0;32m~/Documents/GitHub/SynkroDMX/.venv/lib/python3.10/site-packages/spotipy/client.py:324\u001b[0m, in \u001b[0;36mSpotify._get\u001b[0;34m(self, url, args, payload, **kwargs)\u001b[0m\n\u001b[1;32m    321\u001b[0m \u001b[38;5;28;01mif\u001b[39;00m args:\n\u001b[1;32m    322\u001b[0m     kwargs\u001b[38;5;241m.\u001b[39mupdate(args)\n\u001b[0;32m--> 324\u001b[0m \u001b[38;5;28;01mreturn\u001b[39;00m \u001b[38;5;28;43mself\u001b[39;49m\u001b[38;5;241;43m.\u001b[39;49m\u001b[43m_internal_call\u001b[49m\u001b[43m(\u001b[49m\u001b[38;5;124;43m\"\u001b[39;49m\u001b[38;5;124;43mGET\u001b[39;49m\u001b[38;5;124;43m\"\u001b[39;49m\u001b[43m,\u001b[49m\u001b[43m \u001b[49m\u001b[43murl\u001b[49m\u001b[43m,\u001b[49m\u001b[43m \u001b[49m\u001b[43mpayload\u001b[49m\u001b[43m,\u001b[49m\u001b[43m \u001b[49m\u001b[43mkwargs\u001b[49m\u001b[43m)\u001b[49m\n",
      "File \u001b[0;32m~/Documents/GitHub/SynkroDMX/.venv/lib/python3.10/site-packages/spotipy/client.py:294\u001b[0m, in \u001b[0;36mSpotify._internal_call\u001b[0;34m(self, method, url, payload, params)\u001b[0m\n\u001b[1;32m    289\u001b[0m         reason \u001b[38;5;241m=\u001b[39m \u001b[38;5;28;01mNone\u001b[39;00m\n\u001b[1;32m    291\u001b[0m     logger\u001b[38;5;241m.\u001b[39merror(\u001b[38;5;124mf\u001b[39m\u001b[38;5;124m\"\u001b[39m\u001b[38;5;124mHTTP Error for \u001b[39m\u001b[38;5;132;01m{\u001b[39;00mmethod\u001b[38;5;132;01m}\u001b[39;00m\u001b[38;5;124m to \u001b[39m\u001b[38;5;132;01m{\u001b[39;00murl\u001b[38;5;132;01m}\u001b[39;00m\u001b[38;5;124m with Params: \u001b[39m\u001b[38;5;124m\"\u001b[39m\n\u001b[1;32m    292\u001b[0m                  \u001b[38;5;124mf\u001b[39m\u001b[38;5;124m\"\u001b[39m\u001b[38;5;132;01m{\u001b[39;00margs\u001b[38;5;241m.\u001b[39mget(\u001b[38;5;124m'\u001b[39m\u001b[38;5;124mparams\u001b[39m\u001b[38;5;124m'\u001b[39m)\u001b[38;5;132;01m}\u001b[39;00m\u001b[38;5;124m returned \u001b[39m\u001b[38;5;132;01m{\u001b[39;00mresponse\u001b[38;5;241m.\u001b[39mstatus_code\u001b[38;5;132;01m}\u001b[39;00m\u001b[38;5;124m due to \u001b[39m\u001b[38;5;132;01m{\u001b[39;00mmsg\u001b[38;5;132;01m}\u001b[39;00m\u001b[38;5;124m\"\u001b[39m)\n\u001b[0;32m--> 294\u001b[0m     \u001b[38;5;28;01mraise\u001b[39;00m SpotifyException(\n\u001b[1;32m    295\u001b[0m         response\u001b[38;5;241m.\u001b[39mstatus_code,\n\u001b[1;32m    296\u001b[0m         \u001b[38;5;241m-\u001b[39m\u001b[38;5;241m1\u001b[39m,\n\u001b[1;32m    297\u001b[0m         \u001b[38;5;124mf\u001b[39m\u001b[38;5;124m\"\u001b[39m\u001b[38;5;132;01m{\u001b[39;00mresponse\u001b[38;5;241m.\u001b[39murl\u001b[38;5;132;01m}\u001b[39;00m\u001b[38;5;124m:\u001b[39m\u001b[38;5;130;01m\\n\u001b[39;00m\u001b[38;5;124m \u001b[39m\u001b[38;5;132;01m{\u001b[39;00mmsg\u001b[38;5;132;01m}\u001b[39;00m\u001b[38;5;124m\"\u001b[39m,\n\u001b[1;32m    298\u001b[0m         reason\u001b[38;5;241m=\u001b[39mreason,\n\u001b[1;32m    299\u001b[0m         headers\u001b[38;5;241m=\u001b[39mresponse\u001b[38;5;241m.\u001b[39mheaders,\n\u001b[1;32m    300\u001b[0m     )\n\u001b[1;32m    301\u001b[0m \u001b[38;5;28;01mexcept\u001b[39;00m requests\u001b[38;5;241m.\u001b[39mexceptions\u001b[38;5;241m.\u001b[39mRetryError \u001b[38;5;28;01mas\u001b[39;00m retry_error:\n\u001b[1;32m    302\u001b[0m     request \u001b[38;5;241m=\u001b[39m retry_error\u001b[38;5;241m.\u001b[39mrequest\n",
      "\u001b[0;31mSpotifyException\u001b[0m: http status: 403, code: -1 - https://api.spotify.com/v1/audio-analysis/4hVbecfxAWbMsb56lxGshM:\n None, reason: None"
     ]
    }
   ],
   "source": [
    "sp.audio_analysis(track_id='spotify:track:4hVbecfxAWbMsb56lxGshM')"
   ]
  },
  {
   "cell_type": "code",
   "execution_count": 2,
   "metadata": {},
   "outputs": [
    {
     "name": "stdout",
     "output_type": "stream",
     "text": [
      "Currently playing album cover URL: https://i.scdn.co/image/ab67616d0000b273e9c3c16b480e1c5a84d7b188\n",
      "Album cover downloaded into memory.\n",
      "Dominant color (RGB): (15, 114, 145)\n",
      "Color palette (RGB): [(15, 114, 145), (5, 6, 13), (214, 231, 216), (102, 184, 191), (39, 163, 196)]\n"
     ]
    },
    {
     "data": {
      "image/png": "[encoded data removed]",
      "text/plain": [
       "<Figure size 1000x200 with 5 Axes>"
      ]
     },
     "metadata": {},
     "output_type": "display_data"
    }
   ],
   "source": [
    "import os\n",
    "from dotenv import load_dotenv\n",
    "import spotipy\n",
    "from spotipy.oauth2 import SpotifyOAuth\n",
    "import requests\n",
    "from io import BytesIO\n",
    "from colorthief import ColorThief\n",
    "import matplotlib.pyplot as plt\n",
    "\n",
    "# ===========================\n",
    "# Configuration and Setup\n",
    "# ===========================\n",
    "\n",
    "# Load environment variables from .env file\n",
    "load_dotenv()\n",
    "\n",
    "# Retrieve credentials from environment variables\n",
    "SPOTIFY_CLIENT_ID = os.getenv(\"SPOTIFY_CLIENT_ID\")\n",
    "SPOTIFY_CLIENT_SECRET = os.getenv(\"SPOTIFY_CLIENT_SECRET\")\n",
    "SPOTIFY_REDIRECT_URI = os.getenv(\"SPOTIFY_REDIRECT_URI\")\n",
    "\n",
    "# Verify that required credentials are present\n",
    "if not SPOTIFY_CLIENT_ID or not SPOTIFY_CLIENT_SECRET or not SPOTIFY_REDIRECT_URI:\n",
    "    raise ValueError(\"Missing one of the required environment variables: \"\n",
    "                     \"SPOTIFY_CLIENT_ID, SPOTIFY_CLIENT_SECRET, SPOTIFY_REDIRECT_URI.\")\n",
    "\n",
    "# Define the necessary scope\n",
    "scope = \"user-read-currently-playing\"\n",
    "\n",
    "# Initialize the Spotipy client with OAuth\n",
    "auth_manager = SpotifyOAuth(\n",
    "    client_id=SPOTIFY_CLIENT_ID,\n",
    "    client_secret=SPOTIFY_CLIENT_SECRET,\n",
    "    redirect_uri=SPOTIFY_REDIRECT_URI,\n",
    "    scope=scope,\n",
    "    cache_path=\".cache-spotify\"  # Ensure this is in your .gitignore\n",
    ")\n",
    "sp = spotipy.Spotify(auth_manager=auth_manager)\n",
    "\n",
    "# ===========================\n",
    "# Retrieve Currently Playing Track\n",
    "# ===========================\n",
    "\n",
    "# Get the currently playing track\n",
    "current_track = sp.current_user_playing_track()\n",
    "\n",
    "if current_track and current_track.get('item'):\n",
    "    # Extract the album images\n",
    "    images = current_track['item']['album']['images']\n",
    "    # Typically images[0] is the largest image\n",
    "    if images:\n",
    "        album_cover_url = images[0]['url']\n",
    "        print(\"Currently playing album cover URL:\", album_cover_url)\n",
    "        \n",
    "        # ===========================\n",
    "        # Download the Album Cover Image into Memory\n",
    "        # ===========================\n",
    "        try:\n",
    "            response = requests.get(album_cover_url)\n",
    "            response.raise_for_status()  # Raise an error for bad status codes\n",
    "            image_data = response.content\n",
    "            image_stream = BytesIO(image_data)\n",
    "            print(\"Album cover downloaded into memory.\")\n",
    "        except requests.exceptions.RequestException as e:\n",
    "            print(f\"Error downloading the album cover: {e}\")\n",
    "            exit(1)\n",
    "        \n",
    "        # ===========================\n",
    "        # Extract Color Palette from In-Memory Image\n",
    "        # ===========================\n",
    "        try:\n",
    "            color_thief = ColorThief(image_stream)\n",
    "            # Get the dominant color\n",
    "            dominant_color = color_thief.get_color(quality=1)\n",
    "            # Get a palette of 5 colors\n",
    "            palette = color_thief.get_palette(color_count=5, quality=1)\n",
    "            print(\"Dominant color (RGB):\", dominant_color)\n",
    "            print(\"Color palette (RGB):\", palette)\n",
    "        except Exception as e:\n",
    "            print(f\"Error extracting color palette: {e}\")\n",
    "            exit(1)\n",
    "        \n",
    "        # ===========================\n",
    "        # Visualize the Color Palette\n",
    "        # ===========================\n",
    "        try:\n",
    "            # Create a figure to display the palette\n",
    "            plt.figure(figsize=(10, 2))\n",
    "            for i, color in enumerate(palette):\n",
    "                plt.subplot(1, len(palette), i + 1)\n",
    "                plt.imshow([[color]])\n",
    "                plt.axis('off')\n",
    "                plt.title(f\"Color {i+1}\")\n",
    "            plt.suptitle(\"Extracted Color Palette\", fontsize=16)\n",
    "            plt.show()\n",
    "        except Exception as e:\n",
    "            print(f\"Error visualizing the color palette: {e}\")\n",
    "    else:\n",
    "        print(\"No album images found for the currently playing track.\")\n",
    "else:\n",
    "    print(\"No track is currently playing.\")\n"
   ]
  },
  {
   "cell_type": "code",
   "execution_count": 5,
   "metadata": {},
   "outputs": [
    {
     "name": "stdout",
     "output_type": "stream",
     "text": [
      "Spotify directory added to sys.path: /Users/charly/SpotifyDMX/SpotifyDMX/source/spotify\n"
     ]
    }
   ],
   "source": [
    "import sys\n",
    "import os\n",
    "\n",
    "# Get the absolute path to the parent directory\n",
    "current_dir = os.getcwd()\n",
    "parent_dir = os.path.abspath(os.path.join(current_dir, '..'))\n",
    "\n",
    "# Define the path to the spotify folder\n",
    "spotify_dir = os.path.join(parent_dir, 'spotify')\n",
    "\n",
    "# Add the spotify directory to sys.path\n",
    "if spotify_dir not in sys.path:\n",
    "    sys.path.append(spotify_dir)\n",
    "\n",
    "print(\"Spotify directory added to sys.path:\", spotify_dir)\n"
   ]
  },
  {
   "cell_type": "code",
   "execution_count": 6,
   "metadata": {},
   "outputs": [
    {
     "name": "stdout",
     "output_type": "stream",
     "text": [
      "album_colors module imported successfully.\n"
     ]
    }
   ],
   "source": [
    "import importlib.util\n",
    "\n",
    "# Path to the album_colors.py file\n",
    "album_colors_path = os.path.join(spotify_dir, 'album_colors.py')\n",
    "\n",
    "spec = importlib.util.spec_from_file_location(\"album_colors\", album_colors_path)\n",
    "album_colors = importlib.util.module_from_spec(spec)\n",
    "spec.loader.exec_module(album_colors)\n",
    "\n",
    "print(\"album_colors module imported successfully.\")\n"
   ]
  },
  {
   "cell_type": "code",
   "execution_count": 7,
   "metadata": {},
   "outputs": [
    {
     "name": "stdout",
     "output_type": "stream",
     "text": [
      "Currently playing album cover URL: https://i.scdn.co/image/ab67616d0000b27327ba726c68fe38bab876d5b6\n",
      "Album cover downloaded into memory.\n",
      "Dominant color (RGB): (229, 68, 24)\n",
      "Color palette (RGB): [(229, 68, 24), (59, 166, 58), (183, 204, 136), (220, 144, 98), (230, 161, 142)]\n",
      "\n",
      "Retrieved Album Colors:\n",
      "Dominant Color: (229, 68, 24)\n",
      "Color Palette: [(229, 68, 24), (59, 166, 58), (183, 204, 136), (220, 144, 98), (230, 161, 142)]\n"
     ]
    }
   ],
   "source": [
    "# Retrieve the color vector\n",
    "colors = album_colors.get_current_album_colors()\n",
    "\n",
    "# Display the colors\n",
    "if colors:\n",
    "    print(\"\\nRetrieved Album Colors:\")\n",
    "    print(f\"Dominant Color: {colors['dominant_color']}\")\n",
    "    print(f\"Color Palette: {colors['palette']}\")\n",
    "else:\n",
    "    print(\"Failed to retrieve album colors.\")\n"
   ]
  },
  {
   "cell_type": "code",
   "execution_count": null,
   "metadata": {},
   "outputs": [],
   "source": []
  }
 ],
 "metadata": {
  "kernelspec": {
   "display_name": ".venv",
   "language": "python",
   "name": "python3"
  },
  "language_info": {
   "codemirror_mode": {
    "name": "ipython",
    "version": 3
   },
   "file_extension": ".py",
   "mimetype": "text/x-python",
   "name": "python",
   "nbconvert_exporter": "python",
   "pygments_lexer": "ipython3",
   "version": "3.10.14"
  }
 },
 "nbformat": 4,
 "nbformat_minor": 2
}
