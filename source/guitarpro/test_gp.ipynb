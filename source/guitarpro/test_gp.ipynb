{
 "cells": [
  {
   "cell_type": "code",
   "execution_count": 5,
   "id": "c020587a",
   "metadata": {},
   "outputs": [
    {
     "name": "stdout",
     "output_type": "stream",
     "text": [
      "Convertido a: ../../../../../Downloads/Metallica-Master of Puppets-08-05-2025.musicxml\n"
     ]
    }
   ],
   "source": [
    "import guitarpro as gp\n",
    "import subprocess\n",
    "from pathlib import Path\n",
    "\n",
    "def find_musescore():\n",
    "    # Ajusta si lo tienes en otra ruta/nombre\n",
    "    candidates = [\n",
    "        \"musescore4\", \"mscore4\", \"mscore\",\n",
    "        \"/Applications/MuseScore 4.app/Contents/MacOS/mscore\",\n",
    "        \"/Applications/MuseScore 3.app/Contents/MacOS/mscore\",\n",
    "    ]\n",
    "    for c in candidates:\n",
    "        try:\n",
    "            subprocess.run([c, \"-v\"], stdout=subprocess.DEVNULL, stderr=subprocess.DEVNULL, check=True)\n",
    "            return c\n",
    "        except Exception:\n",
    "            pass\n",
    "    raise FileNotFoundError(\"No encontré MuseScore en PATH. Añade su binario a PATH o ajusta la lista de candidates.\")\n",
    "\n",
    "def gp_to_musicxml(gp_path: str, out_path: str | None = None) -> str:\n",
    "    ms = find_musescore()\n",
    "    gp = Path(gp_path)\n",
    "    if out_path is None:\n",
    "        out_path = str(gp.with_suffix(\".musicxml\"))\n",
    "    subprocess.run([ms, \"-o\", out_path, str(gp)], check=True)\n",
    "    return out_path\n",
    "\n",
    "# Ejemplo de uso:\n",
    "xml_path = gp_to_musicxml(\"../../../../../Downloads/Metallica-Master of Puppets-08-05-2025.gp\")\n",
    "print(\"Convertido a:\", xml_path)"
   ]
  }
 ],
 "metadata": {
  "kernelspec": {
   "display_name": ".venv",
   "language": "python",
   "name": "python3"
  },
  "language_info": {
   "codemirror_mode": {
    "name": "ipython",
    "version": 3
   },
   "file_extension": ".py",
   "mimetype": "text/x-python",
   "name": "python",
   "nbconvert_exporter": "python",
   "pygments_lexer": "ipython3",
   "version": "3.10.14"
  }
 },
 "nbformat": 4,
 "nbformat_minor": 5
}
