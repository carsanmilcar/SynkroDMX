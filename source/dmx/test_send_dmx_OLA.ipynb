{
 "cells": [
  {
   "cell_type": "code",
   "execution_count": 1,
   "id": "42173149",
   "metadata": {},
   "outputs": [
    {
     "name": "stdout",
     "output_type": "stream",
     "text": [
      "Añadidas a sys.path: ['/opt/homebrew/opt/ola/libexec/lib/python3.13/site-packages']\n",
      "OLA importada OK\n"
     ]
    },
    {
     "name": "stderr",
     "output_type": "stream",
     "text": [
      "/opt/homebrew/opt/ola/libexec/lib/python3.13/site-packages/ola/rpc/SimpleRpcController.py:18: UserWarning: google.protobuf.service module is deprecated. RPC implementations should provide code generator plugins which generate code specific to the RPC implementation. service.py will be removed in Jan 2025\n",
      "  from google.protobuf import service\n"
     ]
    }
   ],
   "source": [
    "import sys, os, subprocess, glob\n",
    "\n",
    "# 1) Descubre el prefix de Homebrew\n",
    "try:\n",
    "    prefix = subprocess.check_output([\"brew\", \"--prefix\"]).decode().strip()\n",
    "except Exception:\n",
    "    # Fallback típico en Apple Silicon si PATH no trae brew al notebook\n",
    "    prefix = \"/opt/homebrew\"\n",
    "\n",
    "# 2) Busca cualquier site-packages de OLA para python3.*\n",
    "candidates = glob.glob(os.path.join(prefix, \"opt\", \"ola\", \"libexec\", \"lib\", \"python3.*\", \"site-packages\"))\n",
    "\n",
    "# 3) Añade todos los candidatos al sys.path\n",
    "added = []\n",
    "for p in candidates:\n",
    "    if os.path.isdir(p) and p not in sys.path:\n",
    "        sys.path.append(p)\n",
    "        added.append(p)\n",
    "\n",
    "print(\"Añadidas a sys.path:\", added or \"ninguna; ¿OLA está instalada?\")\n",
    "\n",
    "# 4) Importa OLA\n",
    "from ola.ClientWrapper import ClientWrapper\n",
    "print(\"OLA importada OK\")"
   ]
  },
  {
   "cell_type": "code",
   "execution_count": 8,
   "id": "6d30a64b",
   "metadata": {},
   "outputs": [
    {
     "name": "stdout",
     "output_type": "stream",
     "text": [
      "OK\n",
      "OK\n"
     ]
    }
   ],
   "source": [
    "from array import array\n",
    "from ola.ClientWrapper import ClientWrapper\n",
    "\n",
    "def set_channel_once(universe: int, channel_1_based: int, value_0_255: int):\n",
    "    # Construye un frame de 512 con todo a 0 y solo un canal modificado\n",
    "    levels = array(\"B\", [0] * 512)\n",
    "    idx = channel_1_based - 1  # DMX es 1..512\n",
    "    levels[idx] = max(0, min(255, value_0_255))\n",
    "\n",
    "    def dmx_sent(status):\n",
    "        print(\"OK\" if status.Succeeded() else \"Fallo\")\n",
    "        wrapper.Stop()\n",
    "\n",
    "    wrapper = ClientWrapper()\n",
    "    client = wrapper.Client()\n",
    "    client.SendDmx(universe, levels, dmx_sent)\n",
    "    wrapper.Run()\n",
    "\n",
    "# Ejemplo: canal 7 a 120 en el universo 1\n",
    "set_channel_once(universe=1, channel_1_based=1, value_0_255=120)\n",
    "wait(2)\n",
    "set_channel_once(universe=1, channel_1_based=2, value_0_255=120)"
   ]
  },
  {
   "cell_type": "code",
   "execution_count": 7,
   "id": "218fb629",
   "metadata": {},
   "outputs": [
    {
     "name": "stdout",
     "output_type": "stream",
     "text": [
      "Esperando 2 segundos...\n"
     ]
    }
   ],
   "source": [
    "from time import sleep as wait\n",
    "print(\"Esperando 2 segundos...\")"
   ]
  },
  {
   "cell_type": "code",
   "execution_count": null,
   "id": "029551a6",
   "metadata": {},
   "outputs": [],
   "source": []
  }
 ],
 "metadata": {
  "kernelspec": {
   "display_name": ".venv",
   "language": "python",
   "name": "python3"
  },
  "language_info": {
   "codemirror_mode": {
    "name": "ipython",
    "version": 3
   },
   "file_extension": ".py",
   "mimetype": "text/x-python",
   "name": "python",
   "nbconvert_exporter": "python",
   "pygments_lexer": "ipython3",
   "version": "3.10.14"
  }
 },
 "nbformat": 4,
 "nbformat_minor": 5
}
